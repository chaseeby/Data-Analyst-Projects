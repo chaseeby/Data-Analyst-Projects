{
 "cells": [
  {
   "cell_type": "markdown",
   "metadata": {},
   "source": [
    "# 2019 FordGoBike Data Exploration and Visualiztion\n",
    "## by Chase Eby\n",
    "\n",
    "## Preliminary Wrangling\n",
    "\n",
    "> Bay Wheels a subsidiary of Lift(known for its ride share platform), Is a regional public bicycle sharing system in California's SanFrancisco Bay area(https://en.wikipedia.org/wiki/Bay_Wheels). The dataset includes anonoymized data from the month of march 2018."
   ]
  },
  {
   "cell_type": "code",
   "execution_count": 6,
   "metadata": {},
   "outputs": [],
   "source": [
    "# import all packages and set plots to be embedded inline\n",
    "import numpy as np\n",
    "import pandas as pd\n",
    "import matplotlib.pyplot as plt\n",
    "import seaborn as sns\n",
    "import os\n",
    "\n",
    "%matplotlib inline"
   ]
  },
  {
   "cell_type": "markdown",
   "metadata": {},
   "source": [
    "> Load in your dataset and describe its properties through the questions below.\n",
    "Try and motivate your exploration goals through this section."
   ]
  },
  {
   "cell_type": "code",
   "execution_count": 7,
   "metadata": {
    "scrolled": true
   },
   "outputs": [
    {
     "data": {
      "text/html": [
       "<div>\n",
       "<style scoped>\n",
       "    .dataframe tbody tr th:only-of-type {\n",
       "        vertical-align: middle;\n",
       "    }\n",
       "\n",
       "    .dataframe tbody tr th {\n",
       "        vertical-align: top;\n",
       "    }\n",
       "\n",
       "    .dataframe thead th {\n",
       "        text-align: right;\n",
       "    }\n",
       "</style>\n",
       "<table border=\"1\" class=\"dataframe\">\n",
       "  <thead>\n",
       "    <tr style=\"text-align: right;\">\n",
       "      <th></th>\n",
       "      <th>duration_sec</th>\n",
       "      <th>start_time</th>\n",
       "      <th>end_time</th>\n",
       "      <th>start_station_id</th>\n",
       "      <th>start_station_name</th>\n",
       "      <th>start_station_latitude</th>\n",
       "      <th>start_station_longitude</th>\n",
       "      <th>end_station_id</th>\n",
       "      <th>end_station_name</th>\n",
       "      <th>end_station_latitude</th>\n",
       "      <th>end_station_longitude</th>\n",
       "      <th>bike_id</th>\n",
       "      <th>user_type</th>\n",
       "      <th>bike_share_for_all_trip</th>\n",
       "    </tr>\n",
       "  </thead>\n",
       "  <tbody>\n",
       "    <tr>\n",
       "      <th>0</th>\n",
       "      <td>53588</td>\n",
       "      <td>2019-03-31 20:59:21.8780</td>\n",
       "      <td>2019-04-01 11:52:30.2000</td>\n",
       "      <td>377.0</td>\n",
       "      <td>Fell St at Stanyan St</td>\n",
       "      <td>37.771917</td>\n",
       "      <td>-122.453704</td>\n",
       "      <td>377.0</td>\n",
       "      <td>Fell St at Stanyan St</td>\n",
       "      <td>37.771917</td>\n",
       "      <td>-122.453704</td>\n",
       "      <td>6803</td>\n",
       "      <td>Subscriber</td>\n",
       "      <td>No</td>\n",
       "    </tr>\n",
       "    <tr>\n",
       "      <th>1</th>\n",
       "      <td>74305</td>\n",
       "      <td>2019-03-31 13:56:46.0050</td>\n",
       "      <td>2019-04-01 10:35:11.4540</td>\n",
       "      <td>385.0</td>\n",
       "      <td>Woolsey St at Sacramento St</td>\n",
       "      <td>37.850578</td>\n",
       "      <td>-122.278175</td>\n",
       "      <td>233.0</td>\n",
       "      <td>4th Ave at E 12th St (Temporary Location)</td>\n",
       "      <td>37.795913</td>\n",
       "      <td>-122.255547</td>\n",
       "      <td>6415</td>\n",
       "      <td>Subscriber</td>\n",
       "      <td>No</td>\n",
       "    </tr>\n",
       "    <tr>\n",
       "      <th>2</th>\n",
       "      <td>79789</td>\n",
       "      <td>2019-03-31 11:48:34.2010</td>\n",
       "      <td>2019-04-01 09:58:23.8240</td>\n",
       "      <td>3.0</td>\n",
       "      <td>Powell St BART Station (Market St at 4th St)</td>\n",
       "      <td>37.786375</td>\n",
       "      <td>-122.404904</td>\n",
       "      <td>345.0</td>\n",
       "      <td>Hubbell St at 16th St</td>\n",
       "      <td>37.766483</td>\n",
       "      <td>-122.398279</td>\n",
       "      <td>2317</td>\n",
       "      <td>Customer</td>\n",
       "      <td>No</td>\n",
       "    </tr>\n",
       "    <tr>\n",
       "      <th>3</th>\n",
       "      <td>59315</td>\n",
       "      <td>2019-03-31 16:48:54.3740</td>\n",
       "      <td>2019-04-01 09:17:30.1540</td>\n",
       "      <td>92.0</td>\n",
       "      <td>Mission Bay Kids Park</td>\n",
       "      <td>37.772301</td>\n",
       "      <td>-122.393028</td>\n",
       "      <td>49.0</td>\n",
       "      <td>S Park St at 3rd St</td>\n",
       "      <td>37.780760</td>\n",
       "      <td>-122.394989</td>\n",
       "      <td>6631</td>\n",
       "      <td>Customer</td>\n",
       "      <td>No</td>\n",
       "    </tr>\n",
       "    <tr>\n",
       "      <th>4</th>\n",
       "      <td>47886</td>\n",
       "      <td>2019-03-31 19:54:24.1480</td>\n",
       "      <td>2019-04-01 09:12:30.8170</td>\n",
       "      <td>339.0</td>\n",
       "      <td>Jackson St at 11th St</td>\n",
       "      <td>37.800002</td>\n",
       "      <td>-122.266438</td>\n",
       "      <td>18.0</td>\n",
       "      <td>Telegraph Ave at Alcatraz Ave</td>\n",
       "      <td>37.850222</td>\n",
       "      <td>-122.260172</td>\n",
       "      <td>5241</td>\n",
       "      <td>Subscriber</td>\n",
       "      <td>No</td>\n",
       "    </tr>\n",
       "    <tr>\n",
       "      <th>...</th>\n",
       "      <td>...</td>\n",
       "      <td>...</td>\n",
       "      <td>...</td>\n",
       "      <td>...</td>\n",
       "      <td>...</td>\n",
       "      <td>...</td>\n",
       "      <td>...</td>\n",
       "      <td>...</td>\n",
       "      <td>...</td>\n",
       "      <td>...</td>\n",
       "      <td>...</td>\n",
       "      <td>...</td>\n",
       "      <td>...</td>\n",
       "      <td>...</td>\n",
       "    </tr>\n",
       "    <tr>\n",
       "      <th>256294</th>\n",
       "      <td>451</td>\n",
       "      <td>2019-03-01 00:06:16.6170</td>\n",
       "      <td>2019-03-01 00:13:47.9220</td>\n",
       "      <td>78.0</td>\n",
       "      <td>Folsom St at 9th St</td>\n",
       "      <td>37.773717</td>\n",
       "      <td>-122.411647</td>\n",
       "      <td>136.0</td>\n",
       "      <td>23rd St at San Bruno Ave</td>\n",
       "      <td>37.754436</td>\n",
       "      <td>-122.404364</td>\n",
       "      <td>5410</td>\n",
       "      <td>Subscriber</td>\n",
       "      <td>No</td>\n",
       "    </tr>\n",
       "    <tr>\n",
       "      <th>256295</th>\n",
       "      <td>390</td>\n",
       "      <td>2019-03-01 00:05:19.7830</td>\n",
       "      <td>2019-03-01 00:11:50.7710</td>\n",
       "      <td>75.0</td>\n",
       "      <td>Market St at Franklin St</td>\n",
       "      <td>37.773793</td>\n",
       "      <td>-122.421239</td>\n",
       "      <td>78.0</td>\n",
       "      <td>Folsom St at 9th St</td>\n",
       "      <td>37.773717</td>\n",
       "      <td>-122.411647</td>\n",
       "      <td>6286</td>\n",
       "      <td>Subscriber</td>\n",
       "      <td>Yes</td>\n",
       "    </tr>\n",
       "    <tr>\n",
       "      <th>256296</th>\n",
       "      <td>231</td>\n",
       "      <td>2019-03-01 00:04:06.7990</td>\n",
       "      <td>2019-03-01 00:07:58.3140</td>\n",
       "      <td>317.0</td>\n",
       "      <td>San Salvador St at 9th St</td>\n",
       "      <td>37.333955</td>\n",
       "      <td>-121.877349</td>\n",
       "      <td>310.0</td>\n",
       "      <td>San Fernando St at 4th St</td>\n",
       "      <td>37.335885</td>\n",
       "      <td>-121.885660</td>\n",
       "      <td>6198</td>\n",
       "      <td>Subscriber</td>\n",
       "      <td>Yes</td>\n",
       "    </tr>\n",
       "    <tr>\n",
       "      <th>256297</th>\n",
       "      <td>257</td>\n",
       "      <td>2019-03-01 00:00:20.6750</td>\n",
       "      <td>2019-03-01 00:04:38.0380</td>\n",
       "      <td>235.0</td>\n",
       "      <td>Union St at 10th St</td>\n",
       "      <td>37.807239</td>\n",
       "      <td>-122.289370</td>\n",
       "      <td>160.0</td>\n",
       "      <td>West Oakland BART Station</td>\n",
       "      <td>37.805318</td>\n",
       "      <td>-122.294837</td>\n",
       "      <td>5096</td>\n",
       "      <td>Subscriber</td>\n",
       "      <td>Yes</td>\n",
       "    </tr>\n",
       "    <tr>\n",
       "      <th>256298</th>\n",
       "      <td>149</td>\n",
       "      <td>2019-03-01 00:01:02.3270</td>\n",
       "      <td>2019-03-01 00:03:31.9920</td>\n",
       "      <td>180.0</td>\n",
       "      <td>Telegraph Ave at 23rd St</td>\n",
       "      <td>37.812678</td>\n",
       "      <td>-122.268773</td>\n",
       "      <td>220.0</td>\n",
       "      <td>San Pablo Ave at MLK Jr Way</td>\n",
       "      <td>37.811351</td>\n",
       "      <td>-122.273422</td>\n",
       "      <td>4485</td>\n",
       "      <td>Subscriber</td>\n",
       "      <td>No</td>\n",
       "    </tr>\n",
       "  </tbody>\n",
       "</table>\n",
       "<p>256299 rows × 14 columns</p>\n",
       "</div>"
      ],
      "text/plain": [
       "        duration_sec                start_time                  end_time  \\\n",
       "0              53588  2019-03-31 20:59:21.8780  2019-04-01 11:52:30.2000   \n",
       "1              74305  2019-03-31 13:56:46.0050  2019-04-01 10:35:11.4540   \n",
       "2              79789  2019-03-31 11:48:34.2010  2019-04-01 09:58:23.8240   \n",
       "3              59315  2019-03-31 16:48:54.3740  2019-04-01 09:17:30.1540   \n",
       "4              47886  2019-03-31 19:54:24.1480  2019-04-01 09:12:30.8170   \n",
       "...              ...                       ...                       ...   \n",
       "256294           451  2019-03-01 00:06:16.6170  2019-03-01 00:13:47.9220   \n",
       "256295           390  2019-03-01 00:05:19.7830  2019-03-01 00:11:50.7710   \n",
       "256296           231  2019-03-01 00:04:06.7990  2019-03-01 00:07:58.3140   \n",
       "256297           257  2019-03-01 00:00:20.6750  2019-03-01 00:04:38.0380   \n",
       "256298           149  2019-03-01 00:01:02.3270  2019-03-01 00:03:31.9920   \n",
       "\n",
       "        start_station_id                            start_station_name  \\\n",
       "0                  377.0                         Fell St at Stanyan St   \n",
       "1                  385.0                   Woolsey St at Sacramento St   \n",
       "2                    3.0  Powell St BART Station (Market St at 4th St)   \n",
       "3                   92.0                         Mission Bay Kids Park   \n",
       "4                  339.0                         Jackson St at 11th St   \n",
       "...                  ...                                           ...   \n",
       "256294              78.0                           Folsom St at 9th St   \n",
       "256295              75.0                      Market St at Franklin St   \n",
       "256296             317.0                     San Salvador St at 9th St   \n",
       "256297             235.0                           Union St at 10th St   \n",
       "256298             180.0                      Telegraph Ave at 23rd St   \n",
       "\n",
       "        start_station_latitude  start_station_longitude  end_station_id  \\\n",
       "0                    37.771917              -122.453704           377.0   \n",
       "1                    37.850578              -122.278175           233.0   \n",
       "2                    37.786375              -122.404904           345.0   \n",
       "3                    37.772301              -122.393028            49.0   \n",
       "4                    37.800002              -122.266438            18.0   \n",
       "...                        ...                      ...             ...   \n",
       "256294               37.773717              -122.411647           136.0   \n",
       "256295               37.773793              -122.421239            78.0   \n",
       "256296               37.333955              -121.877349           310.0   \n",
       "256297               37.807239              -122.289370           160.0   \n",
       "256298               37.812678              -122.268773           220.0   \n",
       "\n",
       "                                 end_station_name  end_station_latitude  \\\n",
       "0                           Fell St at Stanyan St             37.771917   \n",
       "1       4th Ave at E 12th St (Temporary Location)             37.795913   \n",
       "2                           Hubbell St at 16th St             37.766483   \n",
       "3                             S Park St at 3rd St             37.780760   \n",
       "4                   Telegraph Ave at Alcatraz Ave             37.850222   \n",
       "...                                           ...                   ...   \n",
       "256294                   23rd St at San Bruno Ave             37.754436   \n",
       "256295                        Folsom St at 9th St             37.773717   \n",
       "256296                  San Fernando St at 4th St             37.335885   \n",
       "256297                  West Oakland BART Station             37.805318   \n",
       "256298                San Pablo Ave at MLK Jr Way             37.811351   \n",
       "\n",
       "        end_station_longitude  bike_id   user_type bike_share_for_all_trip  \n",
       "0                 -122.453704     6803  Subscriber                      No  \n",
       "1                 -122.255547     6415  Subscriber                      No  \n",
       "2                 -122.398279     2317    Customer                      No  \n",
       "3                 -122.394989     6631    Customer                      No  \n",
       "4                 -122.260172     5241  Subscriber                      No  \n",
       "...                       ...      ...         ...                     ...  \n",
       "256294            -122.404364     5410  Subscriber                      No  \n",
       "256295            -122.411647     6286  Subscriber                     Yes  \n",
       "256296            -121.885660     6198  Subscriber                     Yes  \n",
       "256297            -122.294837     5096  Subscriber                     Yes  \n",
       "256298            -122.273422     4485  Subscriber                      No  \n",
       "\n",
       "[256299 rows x 14 columns]"
      ]
     },
     "execution_count": 7,
     "metadata": {},
     "output_type": "execute_result"
    }
   ],
   "source": [
    "# read csv in\n",
    "df = pd.read_csv('201903-fordgobike-tripdata.csv')\n",
    "df"
   ]
  },
  {
   "cell_type": "code",
   "execution_count": 8,
   "metadata": {},
   "outputs": [
    {
     "data": {
      "text/plain": [
       "(256299, 14)"
      ]
     },
     "execution_count": 8,
     "metadata": {},
     "output_type": "execute_result"
    }
   ],
   "source": [
    "# lets Explore the dataset shape\n",
    "df.shape"
   ]
  },
  {
   "cell_type": "code",
   "execution_count": 9,
   "metadata": {},
   "outputs": [
    {
     "data": {
      "text/plain": [
       "duration_sec                 int64\n",
       "start_time                  object\n",
       "end_time                    object\n",
       "start_station_id           float64\n",
       "start_station_name          object\n",
       "start_station_latitude     float64\n",
       "start_station_longitude    float64\n",
       "end_station_id             float64\n",
       "end_station_name            object\n",
       "end_station_latitude       float64\n",
       "end_station_longitude      float64\n",
       "bike_id                      int64\n",
       "user_type                   object\n",
       "bike_share_for_all_trip     object\n",
       "dtype: object"
      ]
     },
     "execution_count": 9,
     "metadata": {},
     "output_type": "execute_result"
    }
   ],
   "source": [
    "# Looking at the datatypes of the dataset- looking for potential issues needing cleaning or tidying\n",
    "df.dtypes\n"
   ]
  },
  {
   "cell_type": "code",
   "execution_count": 10,
   "metadata": {},
   "outputs": [
    {
     "data": {
      "text/html": [
       "<div>\n",
       "<style scoped>\n",
       "    .dataframe tbody tr th:only-of-type {\n",
       "        vertical-align: middle;\n",
       "    }\n",
       "\n",
       "    .dataframe tbody tr th {\n",
       "        vertical-align: top;\n",
       "    }\n",
       "\n",
       "    .dataframe thead th {\n",
       "        text-align: right;\n",
       "    }\n",
       "</style>\n",
       "<table border=\"1\" class=\"dataframe\">\n",
       "  <thead>\n",
       "    <tr style=\"text-align: right;\">\n",
       "      <th></th>\n",
       "      <th>duration_sec</th>\n",
       "      <th>start_time</th>\n",
       "      <th>end_time</th>\n",
       "      <th>start_station_id</th>\n",
       "      <th>start_station_name</th>\n",
       "      <th>start_station_latitude</th>\n",
       "      <th>start_station_longitude</th>\n",
       "      <th>end_station_id</th>\n",
       "      <th>end_station_name</th>\n",
       "      <th>end_station_latitude</th>\n",
       "      <th>end_station_longitude</th>\n",
       "      <th>bike_id</th>\n",
       "      <th>user_type</th>\n",
       "      <th>bike_share_for_all_trip</th>\n",
       "    </tr>\n",
       "  </thead>\n",
       "  <tbody>\n",
       "    <tr>\n",
       "      <th>0</th>\n",
       "      <td>53588</td>\n",
       "      <td>2019-03-31 20:59:21.8780</td>\n",
       "      <td>2019-04-01 11:52:30.2000</td>\n",
       "      <td>377.0</td>\n",
       "      <td>Fell St at Stanyan St</td>\n",
       "      <td>37.771917</td>\n",
       "      <td>-122.453704</td>\n",
       "      <td>377.0</td>\n",
       "      <td>Fell St at Stanyan St</td>\n",
       "      <td>37.771917</td>\n",
       "      <td>-122.453704</td>\n",
       "      <td>6803</td>\n",
       "      <td>Subscriber</td>\n",
       "      <td>No</td>\n",
       "    </tr>\n",
       "    <tr>\n",
       "      <th>1</th>\n",
       "      <td>74305</td>\n",
       "      <td>2019-03-31 13:56:46.0050</td>\n",
       "      <td>2019-04-01 10:35:11.4540</td>\n",
       "      <td>385.0</td>\n",
       "      <td>Woolsey St at Sacramento St</td>\n",
       "      <td>37.850578</td>\n",
       "      <td>-122.278175</td>\n",
       "      <td>233.0</td>\n",
       "      <td>4th Ave at E 12th St (Temporary Location)</td>\n",
       "      <td>37.795913</td>\n",
       "      <td>-122.255547</td>\n",
       "      <td>6415</td>\n",
       "      <td>Subscriber</td>\n",
       "      <td>No</td>\n",
       "    </tr>\n",
       "    <tr>\n",
       "      <th>2</th>\n",
       "      <td>79789</td>\n",
       "      <td>2019-03-31 11:48:34.2010</td>\n",
       "      <td>2019-04-01 09:58:23.8240</td>\n",
       "      <td>3.0</td>\n",
       "      <td>Powell St BART Station (Market St at 4th St)</td>\n",
       "      <td>37.786375</td>\n",
       "      <td>-122.404904</td>\n",
       "      <td>345.0</td>\n",
       "      <td>Hubbell St at 16th St</td>\n",
       "      <td>37.766483</td>\n",
       "      <td>-122.398279</td>\n",
       "      <td>2317</td>\n",
       "      <td>Customer</td>\n",
       "      <td>No</td>\n",
       "    </tr>\n",
       "    <tr>\n",
       "      <th>3</th>\n",
       "      <td>59315</td>\n",
       "      <td>2019-03-31 16:48:54.3740</td>\n",
       "      <td>2019-04-01 09:17:30.1540</td>\n",
       "      <td>92.0</td>\n",
       "      <td>Mission Bay Kids Park</td>\n",
       "      <td>37.772301</td>\n",
       "      <td>-122.393028</td>\n",
       "      <td>49.0</td>\n",
       "      <td>S Park St at 3rd St</td>\n",
       "      <td>37.780760</td>\n",
       "      <td>-122.394989</td>\n",
       "      <td>6631</td>\n",
       "      <td>Customer</td>\n",
       "      <td>No</td>\n",
       "    </tr>\n",
       "    <tr>\n",
       "      <th>4</th>\n",
       "      <td>47886</td>\n",
       "      <td>2019-03-31 19:54:24.1480</td>\n",
       "      <td>2019-04-01 09:12:30.8170</td>\n",
       "      <td>339.0</td>\n",
       "      <td>Jackson St at 11th St</td>\n",
       "      <td>37.800002</td>\n",
       "      <td>-122.266438</td>\n",
       "      <td>18.0</td>\n",
       "      <td>Telegraph Ave at Alcatraz Ave</td>\n",
       "      <td>37.850222</td>\n",
       "      <td>-122.260172</td>\n",
       "      <td>5241</td>\n",
       "      <td>Subscriber</td>\n",
       "      <td>No</td>\n",
       "    </tr>\n",
       "    <tr>\n",
       "      <th>5</th>\n",
       "      <td>67439</td>\n",
       "      <td>2019-03-31 14:07:39.7160</td>\n",
       "      <td>2019-04-01 08:51:39.0340</td>\n",
       "      <td>195.0</td>\n",
       "      <td>Bay Pl at Vernon St</td>\n",
       "      <td>37.812314</td>\n",
       "      <td>-122.260779</td>\n",
       "      <td>212.0</td>\n",
       "      <td>Mosswood Park</td>\n",
       "      <td>37.824893</td>\n",
       "      <td>-122.260437</td>\n",
       "      <td>5118</td>\n",
       "      <td>Customer</td>\n",
       "      <td>No</td>\n",
       "    </tr>\n",
       "    <tr>\n",
       "      <th>6</th>\n",
       "      <td>77996</td>\n",
       "      <td>2019-03-31 11:04:34.2090</td>\n",
       "      <td>2019-04-01 08:44:30.7300</td>\n",
       "      <td>96.0</td>\n",
       "      <td>Dolores St at 15th St</td>\n",
       "      <td>37.766210</td>\n",
       "      <td>-122.426614</td>\n",
       "      <td>134.0</td>\n",
       "      <td>Valencia St at 24th St</td>\n",
       "      <td>37.752428</td>\n",
       "      <td>-122.420628</td>\n",
       "      <td>2630</td>\n",
       "      <td>Customer</td>\n",
       "      <td>No</td>\n",
       "    </tr>\n",
       "    <tr>\n",
       "      <th>7</th>\n",
       "      <td>51522</td>\n",
       "      <td>2019-03-31 18:20:44.5900</td>\n",
       "      <td>2019-04-01 08:39:26.9230</td>\n",
       "      <td>3.0</td>\n",
       "      <td>Powell St BART Station (Market St at 4th St)</td>\n",
       "      <td>37.786375</td>\n",
       "      <td>-122.404904</td>\n",
       "      <td>3.0</td>\n",
       "      <td>Powell St BART Station (Market St at 4th St)</td>\n",
       "      <td>37.786375</td>\n",
       "      <td>-122.404904</td>\n",
       "      <td>817</td>\n",
       "      <td>Customer</td>\n",
       "      <td>No</td>\n",
       "    </tr>\n",
       "    <tr>\n",
       "      <th>8</th>\n",
       "      <td>47140</td>\n",
       "      <td>2019-03-31 18:37:04.2230</td>\n",
       "      <td>2019-04-01 07:42:44.5640</td>\n",
       "      <td>381.0</td>\n",
       "      <td>20th St at Dolores St</td>\n",
       "      <td>37.758238</td>\n",
       "      <td>-122.426094</td>\n",
       "      <td>223.0</td>\n",
       "      <td>16th St Mission BART Station 2</td>\n",
       "      <td>37.764765</td>\n",
       "      <td>-122.420091</td>\n",
       "      <td>4852</td>\n",
       "      <td>Customer</td>\n",
       "      <td>No</td>\n",
       "    </tr>\n",
       "    <tr>\n",
       "      <th>9</th>\n",
       "      <td>58462</td>\n",
       "      <td>2019-03-31 15:26:49.9150</td>\n",
       "      <td>2019-04-01 07:41:12.6750</td>\n",
       "      <td>34.0</td>\n",
       "      <td>Father Alfred E Boeddeker Park</td>\n",
       "      <td>37.783988</td>\n",
       "      <td>-122.412408</td>\n",
       "      <td>34.0</td>\n",
       "      <td>Father Alfred E Boeddeker Park</td>\n",
       "      <td>37.783988</td>\n",
       "      <td>-122.412408</td>\n",
       "      <td>5826</td>\n",
       "      <td>Subscriber</td>\n",
       "      <td>Yes</td>\n",
       "    </tr>\n",
       "  </tbody>\n",
       "</table>\n",
       "</div>"
      ],
      "text/plain": [
       "   duration_sec                start_time                  end_time  \\\n",
       "0         53588  2019-03-31 20:59:21.8780  2019-04-01 11:52:30.2000   \n",
       "1         74305  2019-03-31 13:56:46.0050  2019-04-01 10:35:11.4540   \n",
       "2         79789  2019-03-31 11:48:34.2010  2019-04-01 09:58:23.8240   \n",
       "3         59315  2019-03-31 16:48:54.3740  2019-04-01 09:17:30.1540   \n",
       "4         47886  2019-03-31 19:54:24.1480  2019-04-01 09:12:30.8170   \n",
       "5         67439  2019-03-31 14:07:39.7160  2019-04-01 08:51:39.0340   \n",
       "6         77996  2019-03-31 11:04:34.2090  2019-04-01 08:44:30.7300   \n",
       "7         51522  2019-03-31 18:20:44.5900  2019-04-01 08:39:26.9230   \n",
       "8         47140  2019-03-31 18:37:04.2230  2019-04-01 07:42:44.5640   \n",
       "9         58462  2019-03-31 15:26:49.9150  2019-04-01 07:41:12.6750   \n",
       "\n",
       "   start_station_id                            start_station_name  \\\n",
       "0             377.0                         Fell St at Stanyan St   \n",
       "1             385.0                   Woolsey St at Sacramento St   \n",
       "2               3.0  Powell St BART Station (Market St at 4th St)   \n",
       "3              92.0                         Mission Bay Kids Park   \n",
       "4             339.0                         Jackson St at 11th St   \n",
       "5             195.0                           Bay Pl at Vernon St   \n",
       "6              96.0                         Dolores St at 15th St   \n",
       "7               3.0  Powell St BART Station (Market St at 4th St)   \n",
       "8             381.0                         20th St at Dolores St   \n",
       "9              34.0                Father Alfred E Boeddeker Park   \n",
       "\n",
       "   start_station_latitude  start_station_longitude  end_station_id  \\\n",
       "0               37.771917              -122.453704           377.0   \n",
       "1               37.850578              -122.278175           233.0   \n",
       "2               37.786375              -122.404904           345.0   \n",
       "3               37.772301              -122.393028            49.0   \n",
       "4               37.800002              -122.266438            18.0   \n",
       "5               37.812314              -122.260779           212.0   \n",
       "6               37.766210              -122.426614           134.0   \n",
       "7               37.786375              -122.404904             3.0   \n",
       "8               37.758238              -122.426094           223.0   \n",
       "9               37.783988              -122.412408            34.0   \n",
       "\n",
       "                               end_station_name  end_station_latitude  \\\n",
       "0                         Fell St at Stanyan St             37.771917   \n",
       "1     4th Ave at E 12th St (Temporary Location)             37.795913   \n",
       "2                         Hubbell St at 16th St             37.766483   \n",
       "3                           S Park St at 3rd St             37.780760   \n",
       "4                 Telegraph Ave at Alcatraz Ave             37.850222   \n",
       "5                                 Mosswood Park             37.824893   \n",
       "6                        Valencia St at 24th St             37.752428   \n",
       "7  Powell St BART Station (Market St at 4th St)             37.786375   \n",
       "8                16th St Mission BART Station 2             37.764765   \n",
       "9                Father Alfred E Boeddeker Park             37.783988   \n",
       "\n",
       "   end_station_longitude  bike_id   user_type bike_share_for_all_trip  \n",
       "0            -122.453704     6803  Subscriber                      No  \n",
       "1            -122.255547     6415  Subscriber                      No  \n",
       "2            -122.398279     2317    Customer                      No  \n",
       "3            -122.394989     6631    Customer                      No  \n",
       "4            -122.260172     5241  Subscriber                      No  \n",
       "5            -122.260437     5118    Customer                      No  \n",
       "6            -122.420628     2630    Customer                      No  \n",
       "7            -122.404904      817    Customer                      No  \n",
       "8            -122.420091     4852    Customer                      No  \n",
       "9            -122.412408     5826  Subscriber                     Yes  "
      ]
     },
     "execution_count": 10,
     "metadata": {},
     "output_type": "execute_result"
    }
   ],
   "source": [
    "df.head(10)"
   ]
  },
  {
   "cell_type": "code",
   "execution_count": 11,
   "metadata": {},
   "outputs": [
    {
     "data": {
      "text/html": [
       "<div>\n",
       "<style scoped>\n",
       "    .dataframe tbody tr th:only-of-type {\n",
       "        vertical-align: middle;\n",
       "    }\n",
       "\n",
       "    .dataframe tbody tr th {\n",
       "        vertical-align: top;\n",
       "    }\n",
       "\n",
       "    .dataframe thead th {\n",
       "        text-align: right;\n",
       "    }\n",
       "</style>\n",
       "<table border=\"1\" class=\"dataframe\">\n",
       "  <thead>\n",
       "    <tr style=\"text-align: right;\">\n",
       "      <th></th>\n",
       "      <th>duration_sec</th>\n",
       "      <th>start_station_id</th>\n",
       "      <th>start_station_latitude</th>\n",
       "      <th>start_station_longitude</th>\n",
       "      <th>end_station_id</th>\n",
       "      <th>end_station_latitude</th>\n",
       "      <th>end_station_longitude</th>\n",
       "      <th>bike_id</th>\n",
       "    </tr>\n",
       "  </thead>\n",
       "  <tbody>\n",
       "    <tr>\n",
       "      <th>count</th>\n",
       "      <td>256299.000000</td>\n",
       "      <td>256078.000000</td>\n",
       "      <td>256299.000000</td>\n",
       "      <td>256299.000000</td>\n",
       "      <td>256078.000000</td>\n",
       "      <td>256299.000000</td>\n",
       "      <td>256299.000000</td>\n",
       "      <td>256299.000000</td>\n",
       "    </tr>\n",
       "    <tr>\n",
       "      <th>mean</th>\n",
       "      <td>807.873831</td>\n",
       "      <td>141.352424</td>\n",
       "      <td>37.771769</td>\n",
       "      <td>-122.356164</td>\n",
       "      <td>140.011317</td>\n",
       "      <td>37.771933</td>\n",
       "      <td>-122.355815</td>\n",
       "      <td>4916.572531</td>\n",
       "    </tr>\n",
       "    <tr>\n",
       "      <th>std</th>\n",
       "      <td>2056.305336</td>\n",
       "      <td>115.408300</td>\n",
       "      <td>0.097027</td>\n",
       "      <td>0.114907</td>\n",
       "      <td>115.386716</td>\n",
       "      <td>0.096979</td>\n",
       "      <td>0.114620</td>\n",
       "      <td>1687.339951</td>\n",
       "    </tr>\n",
       "    <tr>\n",
       "      <th>min</th>\n",
       "      <td>61.000000</td>\n",
       "      <td>3.000000</td>\n",
       "      <td>37.315158</td>\n",
       "      <td>-122.453704</td>\n",
       "      <td>3.000000</td>\n",
       "      <td>37.315158</td>\n",
       "      <td>-122.453704</td>\n",
       "      <td>11.000000</td>\n",
       "    </tr>\n",
       "    <tr>\n",
       "      <th>25%</th>\n",
       "      <td>338.000000</td>\n",
       "      <td>47.000000</td>\n",
       "      <td>37.770083</td>\n",
       "      <td>-122.415204</td>\n",
       "      <td>44.000000</td>\n",
       "      <td>37.770407</td>\n",
       "      <td>-122.413004</td>\n",
       "      <td>4525.000000</td>\n",
       "    </tr>\n",
       "    <tr>\n",
       "      <th>50%</th>\n",
       "      <td>542.000000</td>\n",
       "      <td>104.000000</td>\n",
       "      <td>37.780787</td>\n",
       "      <td>-122.398870</td>\n",
       "      <td>102.000000</td>\n",
       "      <td>37.781010</td>\n",
       "      <td>-122.398525</td>\n",
       "      <td>5369.000000</td>\n",
       "    </tr>\n",
       "    <tr>\n",
       "      <th>75%</th>\n",
       "      <td>854.000000</td>\n",
       "      <td>240.000000</td>\n",
       "      <td>37.797280</td>\n",
       "      <td>-122.293528</td>\n",
       "      <td>239.000000</td>\n",
       "      <td>37.797320</td>\n",
       "      <td>-122.293528</td>\n",
       "      <td>6127.000000</td>\n",
       "    </tr>\n",
       "    <tr>\n",
       "      <th>max</th>\n",
       "      <td>85676.000000</td>\n",
       "      <td>407.000000</td>\n",
       "      <td>37.880222</td>\n",
       "      <td>-121.874119</td>\n",
       "      <td>407.000000</td>\n",
       "      <td>37.880222</td>\n",
       "      <td>-121.874119</td>\n",
       "      <td>7082.000000</td>\n",
       "    </tr>\n",
       "  </tbody>\n",
       "</table>\n",
       "</div>"
      ],
      "text/plain": [
       "        duration_sec  start_station_id  start_station_latitude  \\\n",
       "count  256299.000000     256078.000000           256299.000000   \n",
       "mean      807.873831        141.352424               37.771769   \n",
       "std      2056.305336        115.408300                0.097027   \n",
       "min        61.000000          3.000000               37.315158   \n",
       "25%       338.000000         47.000000               37.770083   \n",
       "50%       542.000000        104.000000               37.780787   \n",
       "75%       854.000000        240.000000               37.797280   \n",
       "max     85676.000000        407.000000               37.880222   \n",
       "\n",
       "       start_station_longitude  end_station_id  end_station_latitude  \\\n",
       "count            256299.000000   256078.000000         256299.000000   \n",
       "mean               -122.356164      140.011317             37.771933   \n",
       "std                   0.114907      115.386716              0.096979   \n",
       "min                -122.453704        3.000000             37.315158   \n",
       "25%                -122.415204       44.000000             37.770407   \n",
       "50%                -122.398870      102.000000             37.781010   \n",
       "75%                -122.293528      239.000000             37.797320   \n",
       "max                -121.874119      407.000000             37.880222   \n",
       "\n",
       "       end_station_longitude        bike_id  \n",
       "count          256299.000000  256299.000000  \n",
       "mean             -122.355815    4916.572531  \n",
       "std                 0.114620    1687.339951  \n",
       "min              -122.453704      11.000000  \n",
       "25%              -122.413004    4525.000000  \n",
       "50%              -122.398525    5369.000000  \n",
       "75%              -122.293528    6127.000000  \n",
       "max              -121.874119    7082.000000  "
      ]
     },
     "execution_count": 11,
     "metadata": {},
     "output_type": "execute_result"
    }
   ],
   "source": [
    "df.describe()\n"
   ]
  },
  {
   "cell_type": "code",
   "execution_count": 12,
   "metadata": {},
   "outputs": [
    {
     "data": {
      "text/plain": [
       "duration_sec                 0\n",
       "start_time                   0\n",
       "end_time                     0\n",
       "start_station_id           221\n",
       "start_station_name         221\n",
       "start_station_latitude       0\n",
       "start_station_longitude      0\n",
       "end_station_id             221\n",
       "end_station_name           221\n",
       "end_station_latitude         0\n",
       "end_station_longitude        0\n",
       "bike_id                      0\n",
       "user_type                    0\n",
       "bike_share_for_all_trip      0\n",
       "dtype: int64"
      ]
     },
     "execution_count": 12,
     "metadata": {},
     "output_type": "execute_result"
    }
   ],
   "source": [
    "df.isnull().sum()"
   ]
  },
  {
   "cell_type": "code",
   "execution_count": 13,
   "metadata": {},
   "outputs": [
    {
     "data": {
      "text/plain": [
       "0"
      ]
     },
     "execution_count": 13,
     "metadata": {},
     "output_type": "execute_result"
    }
   ],
   "source": [
    "df.duplicated().sum()"
   ]
  },
  {
   "cell_type": "code",
   "execution_count": 14,
   "metadata": {},
   "outputs": [
    {
     "data": {
      "text/plain": [
       "Subscriber    219323\n",
       "Customer       36976\n",
       "Name: user_type, dtype: int64"
      ]
     },
     "execution_count": 14,
     "metadata": {},
     "output_type": "execute_result"
    }
   ],
   "source": [
    "df.user_type.value_counts()"
   ]
  },
  {
   "cell_type": "code",
   "execution_count": 15,
   "metadata": {},
   "outputs": [
    {
     "data": {
      "text/plain": [
       "No     233962\n",
       "Yes     22337\n",
       "Name: bike_share_for_all_trip, dtype: int64"
      ]
     },
     "execution_count": 15,
     "metadata": {},
     "output_type": "execute_result"
    }
   ],
   "source": [
    "df.bike_share_for_all_trip.value_counts()"
   ]
  },
  {
   "cell_type": "markdown",
   "metadata": {},
   "source": [
    "## Cleaning Data\n",
    "**This Dataset is fairly clean we dont have to do much to it.  There are a few things we can do to clean it up further and make it easier to analyze**\n",
    "* Both start_time and end_time are str(objects) we may want to convert them to datetimes\n",
    "* Both bike_id and start_station_id and end_station_id should be converted to strings(objects)\n",
    "* user_type and bike_share_for_all_trip should be categories"
   ]
  },
  {
   "cell_type": "code",
   "execution_count": 16,
   "metadata": {},
   "outputs": [],
   "source": [
    "# Make a copy of the dataframe\n",
    "# fix issues with dtypes in the dataset\n",
    "df_clean = df.copy()\n",
    "\n",
    "# convert start_time and end_time to datetime\n",
    "df_clean['start_time'] = pd.to_datetime(df_clean['start_time'])\n",
    "df_clean['end_time'] = pd.to_datetime(df_clean['end_time'])\n",
    "\n",
    "# convert bike_id and start_station_id and end_station_id to strings\n",
    "df_clean['bike_id'] = df_clean['bike_id'].astype('str')\n",
    "df_clean['start_station_id'] = df_clean['start_station_id'].astype('str')\n",
    "df_clean['end_station_id'] = df_clean['end_station_id'].astype('str')\n",
    "\n",
    "# convert user_type and bike_share_for_all_trip should be categories\n",
    "df_clean['user_type'] = df_clean['user_type'].astype('category')\n",
    "df_clean['bike_share_for_all_trip'] = df_clean['bike_share_for_all_trip'].astype('category')\n",
    "\n",
    "# make a new duration_minutes column from duration_sec\n",
    "df_clean['duration_min'] = df_clean['duration_sec']/60\n",
    "\n",
    "# Lets also split the start_time(dates and times) into their own columns to help visualize which days recieved more usage of bikes\n",
    "df_clean['start_day_month'] = df_clean.start_time.dt.strftime('%Y-%m-%d')\n",
    "\n",
    "df_clean['start_time_hour'] = df_clean.start_time.dt.strftime('%H')\n",
    "df_clean['start_day_week'] = df_clean.start_time.dt.strftime('%A')\n",
    "\n",
    "\n"
   ]
  },
  {
   "cell_type": "code",
   "execution_count": 17,
   "metadata": {},
   "outputs": [
    {
     "data": {
      "text/html": [
       "<div>\n",
       "<style scoped>\n",
       "    .dataframe tbody tr th:only-of-type {\n",
       "        vertical-align: middle;\n",
       "    }\n",
       "\n",
       "    .dataframe tbody tr th {\n",
       "        vertical-align: top;\n",
       "    }\n",
       "\n",
       "    .dataframe thead th {\n",
       "        text-align: right;\n",
       "    }\n",
       "</style>\n",
       "<table border=\"1\" class=\"dataframe\">\n",
       "  <thead>\n",
       "    <tr style=\"text-align: right;\">\n",
       "      <th></th>\n",
       "      <th>duration_sec</th>\n",
       "      <th>start_time</th>\n",
       "      <th>end_time</th>\n",
       "      <th>start_station_id</th>\n",
       "      <th>start_station_name</th>\n",
       "      <th>start_station_latitude</th>\n",
       "      <th>start_station_longitude</th>\n",
       "      <th>end_station_id</th>\n",
       "      <th>end_station_name</th>\n",
       "      <th>end_station_latitude</th>\n",
       "      <th>end_station_longitude</th>\n",
       "      <th>bike_id</th>\n",
       "      <th>user_type</th>\n",
       "      <th>bike_share_for_all_trip</th>\n",
       "      <th>duration_min</th>\n",
       "      <th>start_day_month</th>\n",
       "      <th>start_time_hour</th>\n",
       "      <th>start_day_week</th>\n",
       "    </tr>\n",
       "  </thead>\n",
       "  <tbody>\n",
       "    <tr>\n",
       "      <th>0</th>\n",
       "      <td>53588</td>\n",
       "      <td>2019-03-31 20:59:21.878</td>\n",
       "      <td>2019-04-01 11:52:30.200</td>\n",
       "      <td>377.0</td>\n",
       "      <td>Fell St at Stanyan St</td>\n",
       "      <td>37.771917</td>\n",
       "      <td>-122.453704</td>\n",
       "      <td>377.0</td>\n",
       "      <td>Fell St at Stanyan St</td>\n",
       "      <td>37.771917</td>\n",
       "      <td>-122.453704</td>\n",
       "      <td>6803</td>\n",
       "      <td>Subscriber</td>\n",
       "      <td>No</td>\n",
       "      <td>893.133333</td>\n",
       "      <td>2019-03-31</td>\n",
       "      <td>20</td>\n",
       "      <td>Sunday</td>\n",
       "    </tr>\n",
       "    <tr>\n",
       "      <th>1</th>\n",
       "      <td>74305</td>\n",
       "      <td>2019-03-31 13:56:46.005</td>\n",
       "      <td>2019-04-01 10:35:11.454</td>\n",
       "      <td>385.0</td>\n",
       "      <td>Woolsey St at Sacramento St</td>\n",
       "      <td>37.850578</td>\n",
       "      <td>-122.278175</td>\n",
       "      <td>233.0</td>\n",
       "      <td>4th Ave at E 12th St (Temporary Location)</td>\n",
       "      <td>37.795913</td>\n",
       "      <td>-122.255547</td>\n",
       "      <td>6415</td>\n",
       "      <td>Subscriber</td>\n",
       "      <td>No</td>\n",
       "      <td>1238.416667</td>\n",
       "      <td>2019-03-31</td>\n",
       "      <td>13</td>\n",
       "      <td>Sunday</td>\n",
       "    </tr>\n",
       "    <tr>\n",
       "      <th>2</th>\n",
       "      <td>79789</td>\n",
       "      <td>2019-03-31 11:48:34.201</td>\n",
       "      <td>2019-04-01 09:58:23.824</td>\n",
       "      <td>3.0</td>\n",
       "      <td>Powell St BART Station (Market St at 4th St)</td>\n",
       "      <td>37.786375</td>\n",
       "      <td>-122.404904</td>\n",
       "      <td>345.0</td>\n",
       "      <td>Hubbell St at 16th St</td>\n",
       "      <td>37.766483</td>\n",
       "      <td>-122.398279</td>\n",
       "      <td>2317</td>\n",
       "      <td>Customer</td>\n",
       "      <td>No</td>\n",
       "      <td>1329.816667</td>\n",
       "      <td>2019-03-31</td>\n",
       "      <td>11</td>\n",
       "      <td>Sunday</td>\n",
       "    </tr>\n",
       "    <tr>\n",
       "      <th>3</th>\n",
       "      <td>59315</td>\n",
       "      <td>2019-03-31 16:48:54.374</td>\n",
       "      <td>2019-04-01 09:17:30.154</td>\n",
       "      <td>92.0</td>\n",
       "      <td>Mission Bay Kids Park</td>\n",
       "      <td>37.772301</td>\n",
       "      <td>-122.393028</td>\n",
       "      <td>49.0</td>\n",
       "      <td>S Park St at 3rd St</td>\n",
       "      <td>37.780760</td>\n",
       "      <td>-122.394989</td>\n",
       "      <td>6631</td>\n",
       "      <td>Customer</td>\n",
       "      <td>No</td>\n",
       "      <td>988.583333</td>\n",
       "      <td>2019-03-31</td>\n",
       "      <td>16</td>\n",
       "      <td>Sunday</td>\n",
       "    </tr>\n",
       "    <tr>\n",
       "      <th>4</th>\n",
       "      <td>47886</td>\n",
       "      <td>2019-03-31 19:54:24.148</td>\n",
       "      <td>2019-04-01 09:12:30.817</td>\n",
       "      <td>339.0</td>\n",
       "      <td>Jackson St at 11th St</td>\n",
       "      <td>37.800002</td>\n",
       "      <td>-122.266438</td>\n",
       "      <td>18.0</td>\n",
       "      <td>Telegraph Ave at Alcatraz Ave</td>\n",
       "      <td>37.850222</td>\n",
       "      <td>-122.260172</td>\n",
       "      <td>5241</td>\n",
       "      <td>Subscriber</td>\n",
       "      <td>No</td>\n",
       "      <td>798.100000</td>\n",
       "      <td>2019-03-31</td>\n",
       "      <td>19</td>\n",
       "      <td>Sunday</td>\n",
       "    </tr>\n",
       "  </tbody>\n",
       "</table>\n",
       "</div>"
      ],
      "text/plain": [
       "   duration_sec              start_time                end_time  \\\n",
       "0         53588 2019-03-31 20:59:21.878 2019-04-01 11:52:30.200   \n",
       "1         74305 2019-03-31 13:56:46.005 2019-04-01 10:35:11.454   \n",
       "2         79789 2019-03-31 11:48:34.201 2019-04-01 09:58:23.824   \n",
       "3         59315 2019-03-31 16:48:54.374 2019-04-01 09:17:30.154   \n",
       "4         47886 2019-03-31 19:54:24.148 2019-04-01 09:12:30.817   \n",
       "\n",
       "  start_station_id                            start_station_name  \\\n",
       "0            377.0                         Fell St at Stanyan St   \n",
       "1            385.0                   Woolsey St at Sacramento St   \n",
       "2              3.0  Powell St BART Station (Market St at 4th St)   \n",
       "3             92.0                         Mission Bay Kids Park   \n",
       "4            339.0                         Jackson St at 11th St   \n",
       "\n",
       "   start_station_latitude  start_station_longitude end_station_id  \\\n",
       "0               37.771917              -122.453704          377.0   \n",
       "1               37.850578              -122.278175          233.0   \n",
       "2               37.786375              -122.404904          345.0   \n",
       "3               37.772301              -122.393028           49.0   \n",
       "4               37.800002              -122.266438           18.0   \n",
       "\n",
       "                            end_station_name  end_station_latitude  \\\n",
       "0                      Fell St at Stanyan St             37.771917   \n",
       "1  4th Ave at E 12th St (Temporary Location)             37.795913   \n",
       "2                      Hubbell St at 16th St             37.766483   \n",
       "3                        S Park St at 3rd St             37.780760   \n",
       "4              Telegraph Ave at Alcatraz Ave             37.850222   \n",
       "\n",
       "   end_station_longitude bike_id   user_type bike_share_for_all_trip  \\\n",
       "0            -122.453704    6803  Subscriber                      No   \n",
       "1            -122.255547    6415  Subscriber                      No   \n",
       "2            -122.398279    2317    Customer                      No   \n",
       "3            -122.394989    6631    Customer                      No   \n",
       "4            -122.260172    5241  Subscriber                      No   \n",
       "\n",
       "   duration_min start_day_month start_time_hour start_day_week  \n",
       "0    893.133333      2019-03-31              20         Sunday  \n",
       "1   1238.416667      2019-03-31              13         Sunday  \n",
       "2   1329.816667      2019-03-31              11         Sunday  \n",
       "3    988.583333      2019-03-31              16         Sunday  \n",
       "4    798.100000      2019-03-31              19         Sunday  "
      ]
     },
     "execution_count": 17,
     "metadata": {},
     "output_type": "execute_result"
    }
   ],
   "source": [
    "# look at clean dataset\n",
    "df_clean.head()"
   ]
  },
  {
   "cell_type": "markdown",
   "metadata": {},
   "source": [
    "### What is the structure of your dataset?\n",
    "\n",
    "> **The original dataset contains 256299 observations with 14 variables.  We can put these variables into a few categories.**\n",
    "\n",
    "**Duration of Trip**\n",
    "* duration_sec\n",
    "* start_time\n",
    "* end_time\n",
    "\n",
    "**Location Info**\n",
    "* start_station_name\n",
    "* start_station_id\t\n",
    "* start_station_latitude\n",
    "* start_station_longitude\n",
    "* end_station_name\n",
    "* end_station_id\n",
    "* end_station_latitude\t\n",
    "* end_station_longitude\n",
    "\n",
    "**User Info**\n",
    "* user_type\n",
    "\n",
    "**Trip Info**\n",
    "* bike_share_for_all_trip\n",
    "* bike_id\n",
    "\n",
    "\n",
    "### What is/are the main feature(s) of interest in your dataset?\n",
    "\n",
    "> I want to explore if specific bikes recieve more usage than other bikes.  I also want to explore which days of the week recieve the most usage aswell as the time of day that they are used. \n",
    "\n",
    "### What features in the dataset do you think will help support your investigation into your feature(s) of interest?\n",
    "\n",
    "> The user_type and bike_id variable will help me look into which bikes are most used and the types of users that are using those bikes.  I split the Start_date in order to make it easier to see which days of the month and week recieved the most usage.  Also what time of day recieves the most usage.\n"
   ]
  },
  {
   "cell_type": "markdown",
   "metadata": {},
   "source": [
    "## Univariate Exploration\n",
    "\n",
    "> In this section, investigate distributions of individual variables. If\n",
    "you see unusual points or outliers, take a deeper look to clean things up\n",
    "and prepare yourself to look at relationships between variables."
   ]
  },
  {
   "cell_type": "markdown",
   "metadata": {},
   "source": [
    "**When making our plots we want to make sure people with visual imparements can decifer the plots**"
   ]
  },
  {
   "cell_type": "code",
   "execution_count": 18,
   "metadata": {},
   "outputs": [],
   "source": [
    "# Make plot sizes larger\n",
    "plt.rcParams['figure.figsize'] = 8, 6\n",
    "\n",
    "# Use Colorblind for our pallet(Reduce the amount of different colors for our plots)\n",
    "colorblind = sns.color_palette('colorblind')[0]"
   ]
  },
  {
   "cell_type": "markdown",
   "metadata": {},
   "source": [
    "### 1. What types of users are riding bikes?  (Subsribers or regular customers)"
   ]
  },
  {
   "cell_type": "code",
   "execution_count": 19,
   "metadata": {},
   "outputs": [
    {
     "data": {
      "text/plain": [
       "Text(0, 0.5, 'Count of Rides')"
      ]
     },
     "execution_count": 19,
     "metadata": {},
     "output_type": "execute_result"
    },
    {
     "data": {
      "image/png": "[encoded data removed]",
      "text/plain": [
       "<Figure size 576x432 with 1 Axes>"
      ]
     },
     "metadata": {
      "needs_background": "light"
     },
     "output_type": "display_data"
    }
   ],
   "source": [
    "# lets look at user_type to see the distrobution of subsribers to non subscribers\n",
    "sns.countplot(data=df_clean, x='user_type', color = colorblind).set_title(\"User Type\")\n",
    "plt.xlabel('User Type');\n",
    "plt.ylabel('Count of Rides')"
   ]
  },
  {
   "cell_type": "markdown",
   "metadata": {},
   "source": [
    "**From the graph above we can see that the vast majority of rides are with subscribers**"
   ]
  },
  {
   "cell_type": "markdown",
   "metadata": {},
   "source": [
    "### 2. Which days of the week are users riding?"
   ]
  },
  {
   "cell_type": "code",
   "execution_count": 20,
   "metadata": {},
   "outputs": [
    {
     "data": {
      "image/png": "[encoded data removed]",
      "text/plain": [
       "<Figure size 576x432 with 1 Axes>"
      ]
     },
     "metadata": {
      "needs_background": "light"
     },
     "output_type": "display_data"
    }
   ],
   "source": [
    "# Label the graph with each day of the week\n",
    "weekdays = ['Monday', 'Tuesday', 'Wednesday', 'Thursday', 'Friday', 'Saturday', 'Sunday']\n",
    "weekday_as_category = pd.api.types.CategoricalDtype(ordered=True, categories=weekdays)\n",
    "df_clean['start_day_week'] = df_clean['start_day_week'].astype(weekday_as_category)\n",
    "\n",
    "# Plot the weekdays\n",
    "sns.countplot(data=df_clean, x='start_day_week', color=colorblind).set_title('Ride Count on Days of Week');\n",
    "\n",
    "plt.xlabel('Trip Start Day of Week');\n",
    "plt.ylabel('Count');"
   ]
  },
  {
   "cell_type": "markdown",
   "metadata": {},
   "source": [
    "**As the graph above shows the Bike Service gets more usage during the week.  We can look into this further by looking into which ours are the bikes being used.**"
   ]
  },
  {
   "cell_type": "markdown",
   "metadata": {},
   "source": [
    "### 3. Which hours of the day are the bikes being used the most?"
   ]
  },
  {
   "cell_type": "code",
   "execution_count": 21,
   "metadata": {},
   "outputs": [
    {
     "data": {
      "image/png": "[encoded data removed]",
      "text/plain": [
       "<Figure size 576x432 with 1 Axes>"
      ]
     },
     "metadata": {
      "needs_background": "light"
     },
     "output_type": "display_data"
    }
   ],
   "source": [
    "sns.countplot(data=df_clean, x='start_time_hour', color=colorblind).set_title('Rides by Hour');\n",
    "plt.xlabel('Trip Start by Hour');\n",
    "plt.ylabel('Count of Trips');"
   ]
  },
  {
   "cell_type": "markdown",
   "metadata": {},
   "source": [
    "**We can see that most of the rides start during two peak hours (8 AM and 5 PM), we might be able to make the assumption that people are using the bikes to go to and from work.**"
   ]
  },
  {
   "cell_type": "markdown",
   "metadata": {},
   "source": [
    "### 4. lets look at ride duration next.  What is the ditribution of the ride duration?"
   ]
  },
  {
   "cell_type": "code",
   "execution_count": 22,
   "metadata": {},
   "outputs": [
    {
     "data": {
      "text/plain": [
       "Text(0.5, 1.0, 'Distribution of Ride Length')"
      ]
     },
     "execution_count": 22,
     "metadata": {},
     "output_type": "execute_result"
    },
    {
     "data": {
      "image/png": "[encoded data removed]",
      "text/plain": [
       "<Figure size 576x432 with 1 Axes>"
      ]
     },
     "metadata": {
      "needs_background": "light"
     },
     "output_type": "display_data"
    }
   ],
   "source": [
    "bins = np.arange(0, 71, 1)\n",
    "ticks = np.arange(0, 71, 5)\n",
    "plt.hist(data=df_clean , x='duration_min', bins=bins);\n",
    "plt.xticks(ticks, ticks);\n",
    "plt.xlabel('Trip Duration');\n",
    "plt.ylabel('Count')\n",
    "\n",
    "plt.title('Distribution of Ride Length')"
   ]
  },
  {
   "cell_type": "markdown",
   "metadata": {},
   "source": [
    "**As the graph above shows.  The average ride length is between 5 and 10 minutes.  There are a few rides that are longer than expeted.  I graphed to 70 minutes meaning there were a few extreemly long usages of the bike share platform.**"
   ]
  },
  {
   "cell_type": "markdown",
   "metadata": {},
   "source": [
    "> Make sure that, after every plot or related series of plots, that you\n",
    "include a Markdown cell with comments about what you observed, and what\n",
    "you plan on investigating next."
   ]
  },
  {
   "cell_type": "markdown",
   "metadata": {},
   "source": [
    "### Discuss the distribution(s) of your variable(s) of interest. Were there any unusual points? Did you need to perform any transformations?\n",
    "\n",
    "> The main observation that I noticed was that the majority of rides were happeing during the week at 8 AM and 5 PM.  This shows that the Bike Share platform is being used by people getting to and from work. \n",
    "\n",
    "### Of the features you investigated, were there any unusual distributions? Did you perform any operations on the data to tidy, adjust, or change the form of the data? If so, why did you do this?\n",
    "\n",
    "> One of the unusual points that interested me was with the trip duration.  Some users were taking longer trips than the the average user.  If we could calculate the distance of those outliers we could possibly find some interesting observations"
   ]
  },
  {
   "cell_type": "markdown",
   "metadata": {},
   "source": [
    "## Bivariate Exploration\n",
    "\n",
    "> In this section, investigate relationships between pairs of variables in your\n",
    "data. Make sure the variables that you cover here have been introduced in some\n",
    "fashion in the previous section (univariate exploration)."
   ]
  },
  {
   "cell_type": "markdown",
   "metadata": {},
   "source": [
    "### 5. Lets look at the average time spent on bikes vs Subscribers and Non Subscribers"
   ]
  },
  {
   "cell_type": "code",
   "execution_count": 23,
   "metadata": {},
   "outputs": [
    {
     "data": {
      "image/png": "[encoded data removed]",
      "text/plain": [
       "<Figure size 576x432 with 1 Axes>"
      ]
     },
     "metadata": {
      "needs_background": "light"
     },
     "output_type": "display_data"
    }
   ],
   "source": [
    "# Compare Average Time on Bike vs Customer Type\n",
    "sns.barplot(data=df_clean, x='user_type', y='duration_min', color=colorblind).set_title('Average Ride Length By User Type');\n",
    "plt.ylabel('Duration in Minutes');\n",
    "plt.xlabel('Type of User');"
   ]
  },
  {
   "cell_type": "markdown",
   "metadata": {},
   "source": [
    "**As we can see from the graph above,  non-subscribers ride over twice as long as subsribers do. This is interesting because the subribers are the repeat customers so it makes sense that they would have more but shorter rides.  Conversly a one time customer may need a bike for a while but only needs it a few times a year.**"
   ]
  },
  {
   "cell_type": "markdown",
   "metadata": {},
   "source": [
    "### 6. Lets look at what times of the day do customers and subsribers use the service."
   ]
  },
  {
   "cell_type": "code",
   "execution_count": 24,
   "metadata": {},
   "outputs": [
    {
     "data": {
      "image/png": "[encoded data removed]",
      "text/plain": [
       "<Figure size 576x432 with 1 Axes>"
      ]
     },
     "metadata": {
      "needs_background": "light"
     },
     "output_type": "display_data"
    }
   ],
   "source": [
    "# Plot The Start Times by which type of user is using them.\n",
    "sns.countplot(data=df_clean, x='start_time_hour', hue='user_type').set_title('Ride Times by User Type');\n",
    "plt.xlabel('Time of Day (Hours)');\n",
    "plt.ylabel('Count of Rides');"
   ]
  },
  {
   "cell_type": "markdown",
   "metadata": {},
   "source": [
    "**As the graph shows above we can see that subscribers use the service at two time periods,  8 AM and 5 PM.  While non subscribers use the service at a fairly constant rate through out the day but having its peak at 5 PM.  This shows us again that Subsribers and customers have different use cases**"
   ]
  },
  {
   "cell_type": "markdown",
   "metadata": {},
   "source": [
    "### 7. Which days of the week are each user group using the service?"
   ]
  },
  {
   "cell_type": "code",
   "execution_count": 25,
   "metadata": {},
   "outputs": [
    {
     "data": {
      "image/png": "[encoded data removed]",
      "text/plain": [
       "<Figure size 576x432 with 1 Axes>"
      ]
     },
     "metadata": {
      "needs_background": "light"
     },
     "output_type": "display_data"
    }
   ],
   "source": [
    "# Plot The Start Times by which type of user is using them.\n",
    "sns.countplot(data=df_clean, x='start_day_week', hue='user_type').set_title('Days of Week by User Type');\n",
    "plt.xlabel('Day of Week');\n",
    "plt.ylabel('Count of Rides');"
   ]
  },
  {
   "cell_type": "markdown",
   "metadata": {},
   "source": [
    "**Again we have some interesting findings between the Subscriber group and Customer Group.  We can see that subsribers use the service more during the work week(Monday-Friday) and the customer group uses it more during the weekend(Friday, Saturday and Sunday).  This could represent that subsribers use the bikes to get to work while the customer group may use the bikes for more recreational purposes**"
   ]
  },
  {
   "cell_type": "markdown",
   "metadata": {},
   "source": [
    "### Talk about some of the relationships you observed in this part of the investigation. How did the feature(s) of interest vary with other features in the dataset?\n",
    "\n",
    "> The relationship between the customer group and subriber groups to the days and the hours of the week were very interesting.  we they seem to have opposite use cases for the bikes.  When the subsribers arent using the bikes as much customers are using them more.  \n",
    "\n",
    "### Did you observe any interesting relationships between the other features (not the main feature(s) of interest)?\n",
    "\n",
    "> One of the interesting findings from exploring the User type and Ride Times shows that while Subscribers of the platform have 2 distint peaks of usage being 8 AM and 5 PM.  "
   ]
  },
  {
   "cell_type": "markdown",
   "metadata": {},
   "source": [
    "## Multivariate Exploration\n",
    "\n",
    "> Create plots of three or more variables to investigate your data even\n",
    "further. Make sure that your investigations are justified, and follow from\n",
    "your work in the previous sections."
   ]
  },
  {
   "cell_type": "markdown",
   "metadata": {},
   "source": [
    "### 8. Lets look at how long each user_type is using the bike for each day of the week.  "
   ]
  },
  {
   "cell_type": "code",
   "execution_count": 26,
   "metadata": {},
   "outputs": [
    {
     "data": {
      "text/plain": [
       "Text(0, 0.5, 'Average Ride Length (Minutes)')"
      ]
     },
     "execution_count": 26,
     "metadata": {},
     "output_type": "execute_result"
    },
    {
     "data": {
      "image/png": "[encoded data removed]",
      "text/plain": [
       "<Figure size 576x432 with 1 Axes>"
      ]
     },
     "metadata": {
      "needs_background": "light"
     },
     "output_type": "display_data"
    }
   ],
   "source": [
    "sns.lineplot(data=df_clean, x = 'start_day_week', y = 'duration_min', hue='user_type').set_title('Average Ride Length Each Day')\n",
    "plt.xlabel('Days of the Week')\n",
    "plt.ylabel('Average Ride Length (Minutes)')"
   ]
  },
  {
   "cell_type": "markdown",
   "metadata": {},
   "source": [
    "**From the plot above we can see that the average ride length for each user_type increases on the weekend.  We can also see from this graph that Subsribers have a much smaller standard deviation than that of the customer group. Indicating that the rides that subscribers are taking are easily repeatable, such a ride to work.**"
   ]
  },
  {
   "cell_type": "markdown",
   "metadata": {},
   "source": [
    "### Talk about some of the relationships you observed in this part of the investigation. Were there features that strengthened each other in terms of looking at your feature(s) of interest?\n",
    "\n",
    "> The relationships between the day of week and the average ride length was higher in both groups.  This shows that both user_type's increase their ride length during the weekend. \n",
    "\n",
    "### Were there any interesting or surprising interactions between features?\n",
    "\n",
    "> The interesting interaction that was surprising was how much smaller of a standard deviation there is in the subsriber group.  it seems that the average time on the bike is very repeatable for a subsriber."
   ]
  },
  {
   "cell_type": "markdown",
   "metadata": {},
   "source": [
    "> At the end of your report, make sure that you export the notebook as an\n",
    "html file from the `File > Download as... > HTML` menu. Make sure you keep\n",
    "track of where the exported file goes, so you can put it in the same folder\n",
    "as this notebook for project submission. Also, make sure you remove all of\n",
    "the quote-formatted guide notes like this one before you finish your report!"
   ]
  }
 ],
 "metadata": {
  "kernelspec": {
   "display_name": "Python 3",
   "language": "python",
   "name": "python3"
  },
  "language_info": {
   "codemirror_mode": {
    "name": "ipython",
    "version": 3
   },
   "file_extension": ".py",
   "mimetype": "text/x-python",
   "name": "python",
   "nbconvert_exporter": "python",
   "pygments_lexer": "ipython3",
   "version": "3.7.6"
  }
 },
 "nbformat": 4,
 "nbformat_minor": 2
}
